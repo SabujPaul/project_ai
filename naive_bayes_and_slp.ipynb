{
  "cells": [
    {
      "cell_type": "code",
      "execution_count": 3,
      "metadata": {
        "id": "idcO8OaHhJlx"
      },
      "outputs": [],
      "source": [
        "import numpy as np \n",
        "import pandas as pd\n"
      ]
    },
    {
      "cell_type": "code",
      "execution_count": 4,
      "metadata": {
        "colab": {
          "base_uri": "https://localhost:8080/",
          "height": 300
        },
        "id": "JuKkqUXuhJl5",
        "outputId": "c0dd4302-d249-4242-d769-c44ec1d9768e"
      },
      "outputs": [
        {
          "output_type": "execute_result",
          "data": {
            "text/plain": [
              "  student_id  age  sex  graduated_h_school_type  scholarship_type  \\\n",
              "0   STUDENT1    2    2                        3                 3   \n",
              "1   STUDENT2    2    2                        3                 3   \n",
              "2   STUDENT3    2    2                        2                 3   \n",
              "3   STUDENT4    1    1                        1                 3   \n",
              "4   STUDENT5    2    2                        1                 3   \n",
              "\n",
              "   additional_work  activity  partner  total_salary  transport  ...  \\\n",
              "0                1         2        2             1          1  ...   \n",
              "1                1         2        2             1          1  ...   \n",
              "2                2         2        2             2          4  ...   \n",
              "3                1         2        1             2          1  ...   \n",
              "4                2         2        1             3          1  ...   \n",
              "\n",
              "   preparation_midterm_company  preparation_midterm_time  taking_notes  \\\n",
              "0                            1                         1             3   \n",
              "1                            1                         1             3   \n",
              "2                            1                         1             2   \n",
              "3                            1                         2             3   \n",
              "4                            2                         1             2   \n",
              "\n",
              "   listenning  discussion_improves_interest  flip_classrom  grade_previous  \\\n",
              "0           2                             1              2               1   \n",
              "1           2                             3              2               2   \n",
              "2           2                             1              1               2   \n",
              "3           2                             2              1               3   \n",
              "4           2                             2              1               2   \n",
              "\n",
              "   grade_expected  course_id  grade  \n",
              "0               1          1      1  \n",
              "1               3          1      1  \n",
              "2               2          1      1  \n",
              "3               2          1      1  \n",
              "4               2          1      1  \n",
              "\n",
              "[5 rows x 33 columns]"
            ],
            "text/html": [
              "\n",
              "  <div id=\"df-d24f65b1-143a-44c2-a530-f5c08978eeed\">\n",
              "    <div class=\"colab-df-container\">\n",
              "      <div>\n",
              "<style scoped>\n",
              "    .dataframe tbody tr th:only-of-type {\n",
              "        vertical-align: middle;\n",
              "    }\n",
              "\n",
              "    .dataframe tbody tr th {\n",
              "        vertical-align: top;\n",
              "    }\n",
              "\n",
              "    .dataframe thead th {\n",
              "        text-align: right;\n",
              "    }\n",
              "</style>\n",
              "<table border=\"1\" class=\"dataframe\">\n",
              "  <thead>\n",
              "    <tr style=\"text-align: right;\">\n",
              "      <th></th>\n",
              "      <th>student_id</th>\n",
              "      <th>age</th>\n",
              "      <th>sex</th>\n",
              "      <th>graduated_h_school_type</th>\n",
              "      <th>scholarship_type</th>\n",
              "      <th>additional_work</th>\n",
              "      <th>activity</th>\n",
              "      <th>partner</th>\n",
              "      <th>total_salary</th>\n",
              "      <th>transport</th>\n",
              "      <th>...</th>\n",
              "      <th>preparation_midterm_company</th>\n",
              "      <th>preparation_midterm_time</th>\n",
              "      <th>taking_notes</th>\n",
              "      <th>listenning</th>\n",
              "      <th>discussion_improves_interest</th>\n",
              "      <th>flip_classrom</th>\n",
              "      <th>grade_previous</th>\n",
              "      <th>grade_expected</th>\n",
              "      <th>course_id</th>\n",
              "      <th>grade</th>\n",
              "    </tr>\n",
              "  </thead>\n",
              "  <tbody>\n",
              "    <tr>\n",
              "      <th>0</th>\n",
              "      <td>STUDENT1</td>\n",
              "      <td>2</td>\n",
              "      <td>2</td>\n",
              "      <td>3</td>\n",
              "      <td>3</td>\n",
              "      <td>1</td>\n",
              "      <td>2</td>\n",
              "      <td>2</td>\n",
              "      <td>1</td>\n",
              "      <td>1</td>\n",
              "      <td>...</td>\n",
              "      <td>1</td>\n",
              "      <td>1</td>\n",
              "      <td>3</td>\n",
              "      <td>2</td>\n",
              "      <td>1</td>\n",
              "      <td>2</td>\n",
              "      <td>1</td>\n",
              "      <td>1</td>\n",
              "      <td>1</td>\n",
              "      <td>1</td>\n",
              "    </tr>\n",
              "    <tr>\n",
              "      <th>1</th>\n",
              "      <td>STUDENT2</td>\n",
              "      <td>2</td>\n",
              "      <td>2</td>\n",
              "      <td>3</td>\n",
              "      <td>3</td>\n",
              "      <td>1</td>\n",
              "      <td>2</td>\n",
              "      <td>2</td>\n",
              "      <td>1</td>\n",
              "      <td>1</td>\n",
              "      <td>...</td>\n",
              "      <td>1</td>\n",
              "      <td>1</td>\n",
              "      <td>3</td>\n",
              "      <td>2</td>\n",
              "      <td>3</td>\n",
              "      <td>2</td>\n",
              "      <td>2</td>\n",
              "      <td>3</td>\n",
              "      <td>1</td>\n",
              "      <td>1</td>\n",
              "    </tr>\n",
              "    <tr>\n",
              "      <th>2</th>\n",
              "      <td>STUDENT3</td>\n",
              "      <td>2</td>\n",
              "      <td>2</td>\n",
              "      <td>2</td>\n",
              "      <td>3</td>\n",
              "      <td>2</td>\n",
              "      <td>2</td>\n",
              "      <td>2</td>\n",
              "      <td>2</td>\n",
              "      <td>4</td>\n",
              "      <td>...</td>\n",
              "      <td>1</td>\n",
              "      <td>1</td>\n",
              "      <td>2</td>\n",
              "      <td>2</td>\n",
              "      <td>1</td>\n",
              "      <td>1</td>\n",
              "      <td>2</td>\n",
              "      <td>2</td>\n",
              "      <td>1</td>\n",
              "      <td>1</td>\n",
              "    </tr>\n",
              "    <tr>\n",
              "      <th>3</th>\n",
              "      <td>STUDENT4</td>\n",
              "      <td>1</td>\n",
              "      <td>1</td>\n",
              "      <td>1</td>\n",
              "      <td>3</td>\n",
              "      <td>1</td>\n",
              "      <td>2</td>\n",
              "      <td>1</td>\n",
              "      <td>2</td>\n",
              "      <td>1</td>\n",
              "      <td>...</td>\n",
              "      <td>1</td>\n",
              "      <td>2</td>\n",
              "      <td>3</td>\n",
              "      <td>2</td>\n",
              "      <td>2</td>\n",
              "      <td>1</td>\n",
              "      <td>3</td>\n",
              "      <td>2</td>\n",
              "      <td>1</td>\n",
              "      <td>1</td>\n",
              "    </tr>\n",
              "    <tr>\n",
              "      <th>4</th>\n",
              "      <td>STUDENT5</td>\n",
              "      <td>2</td>\n",
              "      <td>2</td>\n",
              "      <td>1</td>\n",
              "      <td>3</td>\n",
              "      <td>2</td>\n",
              "      <td>2</td>\n",
              "      <td>1</td>\n",
              "      <td>3</td>\n",
              "      <td>1</td>\n",
              "      <td>...</td>\n",
              "      <td>2</td>\n",
              "      <td>1</td>\n",
              "      <td>2</td>\n",
              "      <td>2</td>\n",
              "      <td>2</td>\n",
              "      <td>1</td>\n",
              "      <td>2</td>\n",
              "      <td>2</td>\n",
              "      <td>1</td>\n",
              "      <td>1</td>\n",
              "    </tr>\n",
              "  </tbody>\n",
              "</table>\n",
              "<p>5 rows × 33 columns</p>\n",
              "</div>\n",
              "      <button class=\"colab-df-convert\" onclick=\"convertToInteractive('df-d24f65b1-143a-44c2-a530-f5c08978eeed')\"\n",
              "              title=\"Convert this dataframe to an interactive table.\"\n",
              "              style=\"display:none;\">\n",
              "        \n",
              "  <svg xmlns=\"http://www.w3.org/2000/svg\" height=\"24px\"viewBox=\"0 0 24 24\"\n",
              "       width=\"24px\">\n",
              "    <path d=\"M0 0h24v24H0V0z\" fill=\"none\"/>\n",
              "    <path d=\"M18.56 5.44l.94 2.06.94-2.06 2.06-.94-2.06-.94-.94-2.06-.94 2.06-2.06.94zm-11 1L8.5 8.5l.94-2.06 2.06-.94-2.06-.94L8.5 2.5l-.94 2.06-2.06.94zm10 10l.94 2.06.94-2.06 2.06-.94-2.06-.94-.94-2.06-.94 2.06-2.06.94z\"/><path d=\"M17.41 7.96l-1.37-1.37c-.4-.4-.92-.59-1.43-.59-.52 0-1.04.2-1.43.59L10.3 9.45l-7.72 7.72c-.78.78-.78 2.05 0 2.83L4 21.41c.39.39.9.59 1.41.59.51 0 1.02-.2 1.41-.59l7.78-7.78 2.81-2.81c.8-.78.8-2.07 0-2.86zM5.41 20L4 18.59l7.72-7.72 1.47 1.35L5.41 20z\"/>\n",
              "  </svg>\n",
              "      </button>\n",
              "      \n",
              "  <style>\n",
              "    .colab-df-container {\n",
              "      display:flex;\n",
              "      flex-wrap:wrap;\n",
              "      gap: 12px;\n",
              "    }\n",
              "\n",
              "    .colab-df-convert {\n",
              "      background-color: #E8F0FE;\n",
              "      border: none;\n",
              "      border-radius: 50%;\n",
              "      cursor: pointer;\n",
              "      display: none;\n",
              "      fill: #1967D2;\n",
              "      height: 32px;\n",
              "      padding: 0 0 0 0;\n",
              "      width: 32px;\n",
              "    }\n",
              "\n",
              "    .colab-df-convert:hover {\n",
              "      background-color: #E2EBFA;\n",
              "      box-shadow: 0px 1px 2px rgba(60, 64, 67, 0.3), 0px 1px 3px 1px rgba(60, 64, 67, 0.15);\n",
              "      fill: #174EA6;\n",
              "    }\n",
              "\n",
              "    [theme=dark] .colab-df-convert {\n",
              "      background-color: #3B4455;\n",
              "      fill: #D2E3FC;\n",
              "    }\n",
              "\n",
              "    [theme=dark] .colab-df-convert:hover {\n",
              "      background-color: #434B5C;\n",
              "      box-shadow: 0px 1px 3px 1px rgba(0, 0, 0, 0.15);\n",
              "      filter: drop-shadow(0px 1px 2px rgba(0, 0, 0, 0.3));\n",
              "      fill: #FFFFFF;\n",
              "    }\n",
              "  </style>\n",
              "\n",
              "      <script>\n",
              "        const buttonEl =\n",
              "          document.querySelector('#df-d24f65b1-143a-44c2-a530-f5c08978eeed button.colab-df-convert');\n",
              "        buttonEl.style.display =\n",
              "          google.colab.kernel.accessAllowed ? 'block' : 'none';\n",
              "\n",
              "        async function convertToInteractive(key) {\n",
              "          const element = document.querySelector('#df-d24f65b1-143a-44c2-a530-f5c08978eeed');\n",
              "          const dataTable =\n",
              "            await google.colab.kernel.invokeFunction('convertToInteractive',\n",
              "                                                     [key], {});\n",
              "          if (!dataTable) return;\n",
              "\n",
              "          const docLinkHtml = 'Like what you see? Visit the ' +\n",
              "            '<a target=\"_blank\" href=https://colab.research.google.com/notebooks/data_table.ipynb>data table notebook</a>'\n",
              "            + ' to learn more about interactive tables.';\n",
              "          element.innerHTML = '';\n",
              "          dataTable['output_type'] = 'display_data';\n",
              "          await google.colab.output.renderOutput(dataTable, element);\n",
              "          const docLink = document.createElement('div');\n",
              "          docLink.innerHTML = docLinkHtml;\n",
              "          element.appendChild(docLink);\n",
              "        }\n",
              "      </script>\n",
              "    </div>\n",
              "  </div>\n",
              "  "
            ]
          },
          "metadata": {},
          "execution_count": 4
        }
      ],
      "source": [
        "data = pd.read_csv('student.csv')\n",
        "data.head()"
      ]
    },
    {
      "cell_type": "code",
      "execution_count": 5,
      "metadata": {
        "colab": {
          "base_uri": "https://localhost:8080/",
          "height": 270
        },
        "id": "qRYmeeRhhJl9",
        "outputId": "ca19fdd9-fe15-45aa-a43c-ae914e56cfb3"
      },
      "outputs": [
        {
          "output_type": "execute_result",
          "data": {
            "text/plain": [
              "   age  weekly_study_hours  attendances_classes  taking_notes  \\\n",
              "0    2                   3                    1             3   \n",
              "1    2                   2                    1             3   \n",
              "2    2                   2                    1             2   \n",
              "3    1                   3                    1             3   \n",
              "4    2                   2                    1             2   \n",
              "\n",
              "   reading_non_scientific  reading_scientific  preparation_midterm_company  \\\n",
              "0                       2                   2                            1   \n",
              "1                       2                   2                            1   \n",
              "2                       1                   2                            1   \n",
              "3                       1                   2                            1   \n",
              "4                       1                   1                            2   \n",
              "\n",
              "   preparation_midterm_time  grade  \n",
              "0                         1      1  \n",
              "1                         1      1  \n",
              "2                         1      1  \n",
              "3                         2      1  \n",
              "4                         1      1  "
            ],
            "text/html": [
              "\n",
              "  <div id=\"df-c887ba01-1ce2-4e95-ac68-cc13870bdc8c\">\n",
              "    <div class=\"colab-df-container\">\n",
              "      <div>\n",
              "<style scoped>\n",
              "    .dataframe tbody tr th:only-of-type {\n",
              "        vertical-align: middle;\n",
              "    }\n",
              "\n",
              "    .dataframe tbody tr th {\n",
              "        vertical-align: top;\n",
              "    }\n",
              "\n",
              "    .dataframe thead th {\n",
              "        text-align: right;\n",
              "    }\n",
              "</style>\n",
              "<table border=\"1\" class=\"dataframe\">\n",
              "  <thead>\n",
              "    <tr style=\"text-align: right;\">\n",
              "      <th></th>\n",
              "      <th>age</th>\n",
              "      <th>weekly_study_hours</th>\n",
              "      <th>attendances_classes</th>\n",
              "      <th>taking_notes</th>\n",
              "      <th>reading_non_scientific</th>\n",
              "      <th>reading_scientific</th>\n",
              "      <th>preparation_midterm_company</th>\n",
              "      <th>preparation_midterm_time</th>\n",
              "      <th>grade</th>\n",
              "    </tr>\n",
              "  </thead>\n",
              "  <tbody>\n",
              "    <tr>\n",
              "      <th>0</th>\n",
              "      <td>2</td>\n",
              "      <td>3</td>\n",
              "      <td>1</td>\n",
              "      <td>3</td>\n",
              "      <td>2</td>\n",
              "      <td>2</td>\n",
              "      <td>1</td>\n",
              "      <td>1</td>\n",
              "      <td>1</td>\n",
              "    </tr>\n",
              "    <tr>\n",
              "      <th>1</th>\n",
              "      <td>2</td>\n",
              "      <td>2</td>\n",
              "      <td>1</td>\n",
              "      <td>3</td>\n",
              "      <td>2</td>\n",
              "      <td>2</td>\n",
              "      <td>1</td>\n",
              "      <td>1</td>\n",
              "      <td>1</td>\n",
              "    </tr>\n",
              "    <tr>\n",
              "      <th>2</th>\n",
              "      <td>2</td>\n",
              "      <td>2</td>\n",
              "      <td>1</td>\n",
              "      <td>2</td>\n",
              "      <td>1</td>\n",
              "      <td>2</td>\n",
              "      <td>1</td>\n",
              "      <td>1</td>\n",
              "      <td>1</td>\n",
              "    </tr>\n",
              "    <tr>\n",
              "      <th>3</th>\n",
              "      <td>1</td>\n",
              "      <td>3</td>\n",
              "      <td>1</td>\n",
              "      <td>3</td>\n",
              "      <td>1</td>\n",
              "      <td>2</td>\n",
              "      <td>1</td>\n",
              "      <td>2</td>\n",
              "      <td>1</td>\n",
              "    </tr>\n",
              "    <tr>\n",
              "      <th>4</th>\n",
              "      <td>2</td>\n",
              "      <td>2</td>\n",
              "      <td>1</td>\n",
              "      <td>2</td>\n",
              "      <td>1</td>\n",
              "      <td>1</td>\n",
              "      <td>2</td>\n",
              "      <td>1</td>\n",
              "      <td>1</td>\n",
              "    </tr>\n",
              "  </tbody>\n",
              "</table>\n",
              "</div>\n",
              "      <button class=\"colab-df-convert\" onclick=\"convertToInteractive('df-c887ba01-1ce2-4e95-ac68-cc13870bdc8c')\"\n",
              "              title=\"Convert this dataframe to an interactive table.\"\n",
              "              style=\"display:none;\">\n",
              "        \n",
              "  <svg xmlns=\"http://www.w3.org/2000/svg\" height=\"24px\"viewBox=\"0 0 24 24\"\n",
              "       width=\"24px\">\n",
              "    <path d=\"M0 0h24v24H0V0z\" fill=\"none\"/>\n",
              "    <path d=\"M18.56 5.44l.94 2.06.94-2.06 2.06-.94-2.06-.94-.94-2.06-.94 2.06-2.06.94zm-11 1L8.5 8.5l.94-2.06 2.06-.94-2.06-.94L8.5 2.5l-.94 2.06-2.06.94zm10 10l.94 2.06.94-2.06 2.06-.94-2.06-.94-.94-2.06-.94 2.06-2.06.94z\"/><path d=\"M17.41 7.96l-1.37-1.37c-.4-.4-.92-.59-1.43-.59-.52 0-1.04.2-1.43.59L10.3 9.45l-7.72 7.72c-.78.78-.78 2.05 0 2.83L4 21.41c.39.39.9.59 1.41.59.51 0 1.02-.2 1.41-.59l7.78-7.78 2.81-2.81c.8-.78.8-2.07 0-2.86zM5.41 20L4 18.59l7.72-7.72 1.47 1.35L5.41 20z\"/>\n",
              "  </svg>\n",
              "      </button>\n",
              "      \n",
              "  <style>\n",
              "    .colab-df-container {\n",
              "      display:flex;\n",
              "      flex-wrap:wrap;\n",
              "      gap: 12px;\n",
              "    }\n",
              "\n",
              "    .colab-df-convert {\n",
              "      background-color: #E8F0FE;\n",
              "      border: none;\n",
              "      border-radius: 50%;\n",
              "      cursor: pointer;\n",
              "      display: none;\n",
              "      fill: #1967D2;\n",
              "      height: 32px;\n",
              "      padding: 0 0 0 0;\n",
              "      width: 32px;\n",
              "    }\n",
              "\n",
              "    .colab-df-convert:hover {\n",
              "      background-color: #E2EBFA;\n",
              "      box-shadow: 0px 1px 2px rgba(60, 64, 67, 0.3), 0px 1px 3px 1px rgba(60, 64, 67, 0.15);\n",
              "      fill: #174EA6;\n",
              "    }\n",
              "\n",
              "    [theme=dark] .colab-df-convert {\n",
              "      background-color: #3B4455;\n",
              "      fill: #D2E3FC;\n",
              "    }\n",
              "\n",
              "    [theme=dark] .colab-df-convert:hover {\n",
              "      background-color: #434B5C;\n",
              "      box-shadow: 0px 1px 3px 1px rgba(0, 0, 0, 0.15);\n",
              "      filter: drop-shadow(0px 1px 2px rgba(0, 0, 0, 0.3));\n",
              "      fill: #FFFFFF;\n",
              "    }\n",
              "  </style>\n",
              "\n",
              "      <script>\n",
              "        const buttonEl =\n",
              "          document.querySelector('#df-c887ba01-1ce2-4e95-ac68-cc13870bdc8c button.colab-df-convert');\n",
              "        buttonEl.style.display =\n",
              "          google.colab.kernel.accessAllowed ? 'block' : 'none';\n",
              "\n",
              "        async function convertToInteractive(key) {\n",
              "          const element = document.querySelector('#df-c887ba01-1ce2-4e95-ac68-cc13870bdc8c');\n",
              "          const dataTable =\n",
              "            await google.colab.kernel.invokeFunction('convertToInteractive',\n",
              "                                                     [key], {});\n",
              "          if (!dataTable) return;\n",
              "\n",
              "          const docLinkHtml = 'Like what you see? Visit the ' +\n",
              "            '<a target=\"_blank\" href=https://colab.research.google.com/notebooks/data_table.ipynb>data table notebook</a>'\n",
              "            + ' to learn more about interactive tables.';\n",
              "          element.innerHTML = '';\n",
              "          dataTable['output_type'] = 'display_data';\n",
              "          await google.colab.output.renderOutput(dataTable, element);\n",
              "          const docLink = document.createElement('div');\n",
              "          docLink.innerHTML = docLinkHtml;\n",
              "          element.appendChild(docLink);\n",
              "        }\n",
              "      </script>\n",
              "    </div>\n",
              "  </div>\n",
              "  "
            ]
          },
          "metadata": {},
          "execution_count": 5
        }
      ],
      "source": [
        "data_df = data[['age', 'weekly_study_hours', 'attendances_classes', 'taking_notes', 'reading_non_scientific', 'reading_scientific', 'preparation_midterm_company', 'preparation_midterm_time', 'grade']]\n",
        "data_df.head()"
      ]
    },
    {
      "cell_type": "code",
      "execution_count": 6,
      "metadata": {
        "colab": {
          "base_uri": "https://localhost:8080/"
        },
        "id": "jk-ISATlhJl-",
        "outputId": "03c0b963-46d7-4c85-ce4f-0f99d54e712c"
      },
      "outputs": [
        {
          "output_type": "stream",
          "name": "stdout",
          "text": [
            "<class 'pandas.core.frame.DataFrame'>\n",
            "RangeIndex: 145 entries, 0 to 144\n",
            "Data columns (total 9 columns):\n",
            " #   Column                       Non-Null Count  Dtype\n",
            "---  ------                       --------------  -----\n",
            " 0   age                          145 non-null    int64\n",
            " 1   weekly_study_hours           145 non-null    int64\n",
            " 2   attendances_classes          145 non-null    int64\n",
            " 3   taking_notes                 145 non-null    int64\n",
            " 4   reading_non_scientific       145 non-null    int64\n",
            " 5   reading_scientific           145 non-null    int64\n",
            " 6   preparation_midterm_company  145 non-null    int64\n",
            " 7   preparation_midterm_time     145 non-null    int64\n",
            " 8   grade                        145 non-null    int64\n",
            "dtypes: int64(9)\n",
            "memory usage: 10.3 KB\n"
          ]
        }
      ],
      "source": [
        "data_df.info()"
      ]
    },
    {
      "cell_type": "code",
      "execution_count": 7,
      "metadata": {
        "id": "QNVVI_5NhJmF"
      },
      "outputs": [],
      "source": [
        "def calculate_prior(df, Y):\n",
        "    classes = sorted(list(df[Y].unique()))\n",
        "    prior = []\n",
        "    for i in classes:\n",
        "        prior.append(len(df[df[Y]==i])/len(df))\n",
        "    return prior"
      ]
    },
    {
      "cell_type": "code",
      "execution_count": 8,
      "metadata": {
        "id": "BavzTubxhJmG"
      },
      "outputs": [],
      "source": [
        "\n",
        "def calculate_likelihood_gaussian(df, feat_name, feat_val, Y, label):\n",
        "    #feat = list(df.columns)\n",
        "    df = df[df[Y]==label]\n",
        "    mean, std = df[feat_name].mean(), df[feat_name].std()\n",
        "    p_x_given_y = (1 / (np.sqrt(2 * np.pi) * std)) *  np.exp(-((feat_val-mean)**2 / (2 * std**2 )))\n",
        "    return p_x_given_y"
      ]
    },
    {
      "cell_type": "code",
      "execution_count": 9,
      "metadata": {
        "id": "ra8o6GGzhJmH"
      },
      "outputs": [],
      "source": [
        "\n",
        "def calculate_likelihood_categorical(df, feat_name, feat_val, Y,label):\n",
        "    #feat = list(df.columns)\n",
        "    df = df[df[Y]==label]\n",
        "    p_x_given_y = len(df[df[feat_name]==feat_val]) / len(df)\n",
        "    return p_x_given_y"
      ]
    },
    {
      "cell_type": "code",
      "execution_count": 10,
      "metadata": {
        "id": "QEzqpZD1hJmI"
      },
      "outputs": [],
      "source": [
        "def naive_bayes(df, X, Y):\n",
        "    # get feature names\n",
        "    features = list(df.columns)[:-1]\n",
        "    print((features))\n",
        "\n",
        "    # calculate prior\n",
        "    prior = calculate_prior(df, Y)\n",
        "\n",
        "    Y_pred = []\n",
        "    # loop over every data sample\n",
        "    for x in X:\n",
        "        # calculate likelihood\n",
        "        #print(x)\n",
        "        labels = sorted(list(df[Y].unique()))\n",
        "        likelihood = [1]*len(labels)\n",
        "        for j in range(len(labels)):\n",
        "            for i in range(len(features)):   \n",
        "                           \n",
        "             # if features[i]!='weekly_study_hours':\n",
        "                likelihood[j] *= calculate_likelihood_categorical(df, features[i], x[i], Y, labels[j])\n",
        "             # else:\n",
        "               # likelihood[j] *= calculate_likelihood_gaussian(df, features[i], x[i], Y, labels[j])\n",
        "\n",
        "        \n",
        "        post_prob = [1]*len(labels)\n",
        "        for j in range(len(labels)):\n",
        "            post_prob[j] = likelihood[j] * prior[j]\n",
        "\n",
        "        Y_pred.append(np.argmax(post_prob))\n",
        "\n",
        "    return np.array(Y_pred)"
      ]
    },
    {
      "cell_type": "code",
      "source": [
        "#train single layer perceptron and return weight\n",
        "def train_slp(X, y, num_classes, learning_rate=0.01):\n",
        "  \n",
        "    num_features = X.shape[1]\n",
        "    weights = np.zeros((num_features, num_classes))\n",
        "    biases = np.zeros(num_classes)\n",
        "    epochs=0\n",
        "    #print(X.shape[0])\n",
        "    #for _ in range(max_epochs):\n",
        "    prev_error = float('inf')\n",
        "    while True:\n",
        "        \n",
        "        n_e_v=0\n",
        "        for i in range(X.shape[0]):\n",
        "            # One-vs-All: create binary labels for the current class\n",
        "            y_binary = np.where(y[i] == np.arange(num_classes), 1, -1)\n",
        "\n",
        "            # Forward pass\n",
        "            scores = np.dot(X[i], weights) + biases\n",
        "            #print(scores)\n",
        "            # Compute predicted class\n",
        "            predicted = np.argmax(scores)\n",
        "            \n",
        "            \n",
        "            e_v= (y[i]- predicted)**2 #[for error calculation]\n",
        "            n_e_v=n_e_v + e_v\n",
        "            \n",
        "            # Update weights and biases\n",
        "            if predicted != y[i]:\n",
        "                weights[:, y[i]] += learning_rate * X[i]\n",
        "                biases[y[i]] += learning_rate\n",
        "\n",
        "        epochs += 1                           # for showing number of epochs\n",
        "\n",
        "        error=n_e_v/2\n",
        "        print(error)                            #calculating error = sum((y_target -y_pred)squre)\n",
        "\n",
        "        if error >= prev_error:                  # Stop if error is not decreasing\n",
        "            print(\"Stopped at epoch\", epochs)\n",
        "            break\n",
        "        else:\n",
        "            prev_error = error\n",
        "\n",
        "    return weights, biases"
      ],
      "metadata": {
        "id": "zddIfrBUSgBh"
      },
      "execution_count": 11,
      "outputs": []
    },
    {
      "cell_type": "code",
      "source": [
        "from sklearn.model_selection import train_test_split\n",
        "train, test = train_test_split(data_df, test_size=.15, random_state=41)\n",
        "\n",
        "Y_train = train.iloc[:,-1].values\n",
        "X_train = train.iloc[:,:-1].values\n",
        "X_test = test.iloc[:,:-1].values\n",
        "Y_test = test.iloc[:,-1].values\n",
        "Y_pred_nb = naive_bayes(train, X=X_test, Y=\"grade\")\n"
      ],
      "metadata": {
        "id": "xxGY-9U_VlhF",
        "colab": {
          "base_uri": "https://localhost:8080/"
        },
        "outputId": "91e3ec3c-8b36-4384-8cd3-32559073b021"
      },
      "execution_count": 12,
      "outputs": [
        {
          "output_type": "stream",
          "name": "stdout",
          "text": [
            "['age', 'weekly_study_hours', 'attendances_classes', 'taking_notes', 'reading_non_scientific', 'reading_scientific', 'preparation_midterm_company', 'preparation_midterm_time']\n"
          ]
        }
      ]
    },
    {
      "cell_type": "code",
      "source": [
        "# finding Y_pred for slp\n",
        "def predict_slp(X, weights, biases):\n",
        "    scores = np.dot(X, weights) + biases\n",
        "    return np.argmax(scores, axis=1)"
      ],
      "metadata": {
        "id": "phW0F-lASyGe"
      },
      "execution_count": 13,
      "outputs": []
    },
    {
      "cell_type": "code",
      "source": [
        "# Train the SLP\n",
        "num_classes = len(np.unique(Y_train))\n",
        "weights, biases = train_slp(X_train, Y_train, num_classes)\n",
        "print (weights)"
      ],
      "metadata": {
        "colab": {
          "base_uri": "https://localhost:8080/"
        },
        "id": "S6XUE_sCTDVR",
        "outputId": "0a557ed9-cdeb-4e92-edee-491c9e4c4d4d"
      },
      "execution_count": 14,
      "outputs": [
        {
          "output_type": "stream",
          "name": "stdout",
          "text": [
            "660.5\n",
            "620.5\n",
            "585.5\n",
            "512.5\n",
            "607.5\n",
            "Stopped at epoch 5\n",
            "[[0.5  1.33 1.29 1.34 0.7  1.28 0.85 0.97]\n",
            " [1.   1.58 1.55 1.71 0.95 1.56 1.2  1.52]\n",
            " [0.5  1.01 1.08 0.74 0.5  0.99 0.65 0.81]\n",
            " [0.95 1.98 1.84 1.82 1.   2.02 1.35 1.92]\n",
            " [0.8  1.43 1.45 1.38 0.85 1.43 1.1  1.6 ]\n",
            " [0.9  1.46 1.56 1.55 0.75 1.57 1.05 1.49]\n",
            " [0.75 0.95 0.99 1.04 0.55 0.79 0.6  1.18]\n",
            " [0.45 0.81 0.86 0.92 0.5  0.78 0.65 0.95]]\n"
          ]
        }
      ]
    },
    {
      "cell_type": "code",
      "source": [
        "# Make predictions on the testing set\n",
        "Y_pred_slp = predict_slp(X_test, weights, biases)\n",
        "print(Y_pred_slp)"
      ],
      "metadata": {
        "colab": {
          "base_uri": "https://localhost:8080/"
        },
        "id": "Q67IzjPfTEkJ",
        "outputId": "e3ae75c4-cba9-4f9f-e6d7-f510d10ae064"
      },
      "execution_count": 15,
      "outputs": [
        {
          "output_type": "stream",
          "name": "stdout",
          "text": [
            "[1 2 3 1 1 1 1 5 3 5 2 2 3 3 5 2 7 2 7 1 2 2]\n"
          ]
        }
      ]
    },
    {
      "cell_type": "code",
      "source": [
        "#calculating accuracy for naive bayes\n",
        "cnt =0\n",
        "for i in range(len(Y_test)):\n",
        "  if(Y_test[i]==Y_pred_nb[i]):             \n",
        "    cnt += 1\n",
        "accuracy_nb=cnt/len(Y_test)\n",
        "accuracy_nb"
      ],
      "metadata": {
        "colab": {
          "base_uri": "https://localhost:8080/"
        },
        "id": "wnCKz0jHTyFQ",
        "outputId": "da0cf406-ea6f-4ba4-98c8-d742fee072c5"
      },
      "execution_count": 16,
      "outputs": [
        {
          "output_type": "execute_result",
          "data": {
            "text/plain": [
              "0.045454545454545456"
            ]
          },
          "metadata": {},
          "execution_count": 16
        }
      ]
    },
    {
      "cell_type": "code",
      "source": [
        "#calculating accuracy for SLP\n",
        "cnt1 =0\n",
        "for j in range(len(Y_test)):\n",
        "  if(Y_test[j]==Y_pred_slp[j]):             \n",
        "    cnt1 += 1\n",
        "accuracy_slp=cnt1/len(Y_test)\n",
        "accuracy_slp"
      ],
      "metadata": {
        "colab": {
          "base_uri": "https://localhost:8080/"
        },
        "id": "Se1wW8nATi1x",
        "outputId": "08036c80-b6bb-415b-e628-93de7fa7ca9a"
      },
      "execution_count": 17,
      "outputs": [
        {
          "output_type": "execute_result",
          "data": {
            "text/plain": [
              "0.2727272727272727"
            ]
          },
          "metadata": {},
          "execution_count": 17
        }
      ]
    },
    {
      "cell_type": "code",
      "execution_count": 18,
      "metadata": {
        "id": "fqn3HEkYebpf",
        "colab": {
          "base_uri": "https://localhost:8080/"
        },
        "outputId": "fb5d3f0f-1c7d-42b6-ea3e-a10f4543ea7e"
      },
      "outputs": [
        {
          "output_type": "execute_result",
          "data": {
            "text/plain": [
              "array([1, 6, 3, 4, 1, 3, 1, 1, 1, 3, 3, 6, 1, 2, 2, 4, 2, 5, 7, 1, 1, 5])"
            ]
          },
          "metadata": {},
          "execution_count": 18
        }
      ],
      "source": [
        "Y_test"
      ]
    },
    {
      "cell_type": "code",
      "execution_count": 19,
      "metadata": {
        "id": "4gLDpDTjeiBH",
        "colab": {
          "base_uri": "https://localhost:8080/"
        },
        "outputId": "4f5e6156-28ba-4796-8b6e-08b5edbb5f62"
      },
      "outputs": [
        {
          "output_type": "execute_result",
          "data": {
            "text/plain": [
              "array([2, 0, 5, 2, 5, 4, 1, 5, 3, 1, 6, 2, 7, 4, 5, 1, 7, 2, 1, 2, 2, 2])"
            ]
          },
          "metadata": {},
          "execution_count": 19
        }
      ],
      "source": [
        "Y_pred_nb"
      ]
    },
    {
      "cell_type": "code",
      "source": [
        "Y_pred_slp"
      ],
      "metadata": {
        "colab": {
          "base_uri": "https://localhost:8080/"
        },
        "id": "AycMB8JPT2mZ",
        "outputId": "0ce13317-2fef-45cd-88c5-fdd5757ad0ee"
      },
      "execution_count": 20,
      "outputs": [
        {
          "output_type": "execute_result",
          "data": {
            "text/plain": [
              "array([1, 2, 3, 1, 1, 1, 1, 5, 3, 5, 2, 2, 3, 3, 5, 2, 7, 2, 7, 1, 2, 2])"
            ]
          },
          "metadata": {},
          "execution_count": 20
        }
      ]
    },
    {
      "cell_type": "code",
      "execution_count": 20,
      "metadata": {
        "id": "2eBU-QGQi0-B"
      },
      "outputs": [],
      "source": []
    }
  ],
  "metadata": {
    "colab": {
      "provenance": []
    },
    "kernelspec": {
      "display_name": "Python 3 (ipykernel)",
      "language": "python",
      "name": "python3"
    },
    "language_info": {
      "codemirror_mode": {
        "name": "ipython",
        "version": 3
      },
      "file_extension": ".py",
      "mimetype": "text/x-python",
      "name": "python",
      "nbconvert_exporter": "python",
      "pygments_lexer": "ipython3",
      "version": "3.9.13"
    }
  },
  "nbformat": 4,
  "nbformat_minor": 0
}